{
 "cells": [
  {
   "cell_type": "code",
   "execution_count": 129,
   "id": "7b389870-982b-4bce-b40a-ed3d46184d31",
   "metadata": {},
   "outputs": [
    {
     "name": "stdout",
     "output_type": "stream",
     "text": [
      "Nama : apuy goman\n",
      "Umur : 25\n",
      "Alamat : Amerika kidul\n",
      "Provinsi : 742391551\n",
      "Kampung : Kp.Cibolang\n",
      "Desa : Desa Mangkalaya\n",
      "Nilai pemorograman : 101.9\n",
      "Status  menikah : True\n",
      "hobi : memancing\n"
     ]
    }
   ],
   "source": [
    "name = \"apuy goman\"\n",
    "age = 25\n",
    "address,province,village,country = \"Amerika kidul\",\"742391551\",\"Kp.Cibolang\",\"Desa Mangkalaya\"\n",
    "pythonScore = 101.9\n",
    "isMarried = True\n",
    "hobbies = \"memancing\"\n",
    "\n",
    "print(\"Nama :\",name)\n",
    "print(\"Umur :\",age)\n",
    "print(\"Alamat :\",address)\n",
    "print(\"Provinsi :\",province)\n",
    "print(\"Kampung :\",village)\n",
    "print(\"Desa :\",country)\n",
    "print(\"Nilai pemorograman :\",pythonScore)\n",
    "print(\"Status  menikah :\",isMarried)\n",
    "print(\"hobi :\",hobbies)\n",
    "      "
   ]
  },
  {
   "cell_type": "code",
   "execution_count": 27,
   "id": "5e27ee14-6447-4198-b5ca-b5b200eb62cc",
   "metadata": {},
   "outputs": [
    {
     "name": "stdout",
     "output_type": "stream",
     "text": [
      "Tipe Data (name) : <class 'str'>\n",
      "Tipe Data (age) : <class 'int'>\n",
      "Tipe Data (address) : <class 'str'>\n",
      "Tipe Data (province) : <class 'str'>\n",
      "Tipe Data (village) : <class 'str'>\n",
      "Tipe Data (country) : <class 'str'>\n",
      "Tipe Data (scorePyhton) : <class 'float'>\n",
      "Tipe Data (isMarried) : <class 'bool'>\n",
      "Tipe Data (hobbies) : <class 'str'>\n"
     ]
    }
   ],
   "source": [
    "print(\"Tipe Data (name) :\",type(name))\n",
    "print(\"Tipe Data (age) :\",type(age))\n",
    "print(\"Tipe Data (address) :\",type(address))\n",
    "print(\"Tipe Data (province) :\",type(province))\n",
    "print(\"Tipe Data (village) :\",type(village))\n",
    "print(\"Tipe Data (country) :\",type(country))\n",
    "print(\"Tipe Data (scorePyhton) :\",type(pythonScore))\n",
    "print(\"Tipe Data (isMarried) :\",type(isMarried))\n",
    "print(\"Tipe Data (hobbies) :\",type(hobbies))"
   ]
  },
  {
   "cell_type": "code",
   "execution_count": 127,
   "id": "f8c494b6-0835-447a-80c7-0fca96b6ffa3",
   "metadata": {},
   "outputs": [
    {
     "name": "stdout",
     "output_type": "stream",
     "text": [
      "742391551 742391551.0 True\n",
      "25 25.0 True\n",
      "101.9 101 True\n",
      "True 1 1.0\n"
     ]
    }
   ],
   "source": [
    "#casting atau konversi data\n",
    "\n",
    "strToInt = int(province)\n",
    "strToFloat = float(province)\n",
    "strToBool = bool(province)\n",
    "print(strToInt,strToFloat,strToBool)\n",
    "\n",
    "intTostr = str(age)\n",
    "intToFloat = float(age)\n",
    "intToBool = bool(age)\n",
    "print(intTostr,intToFloat,intToBool)\n",
    "\n",
    "floatToStr = str(pythonScore)\n",
    "floatToInt = int(pythonScore)\n",
    "floatToBool = bool(pythonScore)\n",
    "print(floatToStr,floatToInt,floatToBool)\n",
    "\n",
    "boolToStr = str(isMarried)\n",
    "boolToInt = int(isMarried)\n",
    "boolToFloat = float(isMarried)\n",
    "print(boolToStr,boolToInt,boolToFloat)"
   ]
  },
  {
   "cell_type": "code",
   "execution_count": 65,
   "id": "ed90d58c-302a-48a5-a3c9-07a1847fd5cb",
   "metadata": {},
   "outputs": [
    {
     "name": "stdout",
     "output_type": "stream",
     "text": [
      "u\n",
      "i\n"
     ]
    }
   ],
   "source": [
    "#String adalah kumpulan baris dari beberapa karakter dan immutable\n",
    "city = \"sukabumi\"\n",
    "panjang = (len(city))\n",
    "print(city[5])\n",
    "print(city[panjang-1])"
   ]
  },
  {
   "cell_type": "code",
   "execution_count": 125,
   "id": "0535a178-311e-4b1a-9ac1-f6771d56a568",
   "metadata": {},
   "outputs": [
    {
     "name": "stdout",
     "output_type": "stream",
     "text": [
      "Nilai Desimal : 500\n",
      "Nilai Biner : 10\n",
      "Nilai Octal : 255\n",
      "Nilai Hexxa : 255\n",
      "biner dari  500 : 0b111110100\n",
      "octal dari  500 : 0o764\n",
      "hexadesimal dari  500 : 0x1f4\n"
     ]
    }
   ],
   "source": [
    "desimal = 500\n",
    "biner = 0b1010\n",
    "octal = 0o377\n",
    "hexxa = 0xff\n",
    "\n",
    "print(\"Nilai Desimal :\",desimal)\n",
    "print(\"Nilai Biner :\",biner)\n",
    "print(\"Nilai Octal :\",octal)\n",
    "print(\"Nilai Hexxa :\",hexxa)\n",
    "\n",
    "print(\"biner dari \",desimal,\":\",bin(desimal))\n",
    "print(\"octal dari \",desimal,\":\",oct(desimal))\n",
    "print(\"hexadesimal dari \",desimal,\":\",hex(desimal))\n"
   ]
  },
  {
   "cell_type": "code",
   "execution_count": 123,
   "id": "967f5dd9-4360-4ada-aacd-5d67c718985c",
   "metadata": {},
   "outputs": [
    {
     "name": "stdout",
     "output_type": "stream",
     "text": [
      "['Sukabumi', 'Malang', 'Bandung']\n",
      "Sukabumi\n",
      "Bandung\n",
      "['Sukabumi', 'jakarta', 'Bandung']\n",
      "('mancing', 'ngopi', 'jaga parkiran')\n",
      "mancing\n",
      "{'name': 'raul', 'age': 20, 'address': {'street': 'jl. cidolog', 'number': 67, 'province': 'mangkalaya'}}\n",
      "raul\n",
      "mangkalaya\n",
      "apud\n"
     ]
    }
   ],
   "source": [
    "###### Tipe data collection\n",
    "cities = [\"Sukabumi\",\"Malang\",\"Bandung\"]\n",
    "print(cities)\n",
    "print(cities[0])\n",
    "print(cities[len(cities)-1 ])\n",
    "cities[1] = \"jakarta\"\n",
    "print(cities)\n",
    "\n",
    "hobbies = (\"mancing\",\"ngopi\",\"jaga parkiran\")\n",
    "print(hobbies)\n",
    "print(hobbies[0])\n",
    "#hobbies[0] = \"Stay in parking lot\"\n",
    "guardData = {\n",
    "    \"name\" : \"raul\",\n",
    "    \"age\" : 20,\n",
    "    \"address\" : {\n",
    "        \"street\" : \"jl. cidolog\",\n",
    "        \"number\" : 67,\n",
    "        \"province\": \"mangkalaya\"\n",
    "    }\n",
    "}\n",
    "\n",
    "guardList = [\n",
    "    {\n",
    "        \"name\" : \"raul\",\n",
    "        \"age\" : 20,\n",
    "        \"address\" : {\n",
    "            \"street\" : \"jl. cidolog\",\n",
    "            \"number\" : 67,\n",
    "            \"province\": \"mangkalaya\"\n",
    "        }\n",
    "    },\n",
    "    {\n",
    "        \"name\" : \"apud\",\n",
    "        \"age\" : 80,\n",
    "        \"address\" : {\n",
    "            \"street\" : \"jl. cidolog\",\n",
    "            \"number\" : 67,\n",
    "            \"province\": \"mangkalaya\"\n",
    "        }\n",
    "    }\n",
    "       \n",
    "] \n",
    "print(guardData)\n",
    "print(guardData[\"name\"])\n",
    "print(guardData[\"address\"][\"province\"])\n",
    "\n",
    "print(guardList[1][\"name\"])\n"
   ]
  }
 ],
 "metadata": {
  "kernelspec": {
   "display_name": "Python 3 (ipykernel)",
   "language": "python",
   "name": "python3"
  },
  "language_info": {
   "codemirror_mode": {
    "name": "ipython",
    "version": 3
   },
   "file_extension": ".py",
   "mimetype": "text/x-python",
   "name": "python",
   "nbconvert_exporter": "python",
   "pygments_lexer": "ipython3",
   "version": "3.9.12"
  }
 },
 "nbformat": 4,
 "nbformat_minor": 5
}
